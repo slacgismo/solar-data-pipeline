{
 "cells": [
  {
   "cell_type": "code",
   "execution_count": null,
   "metadata": {},
   "outputs": [],
   "source": [
    "%load_ext autoreload\n",
    "%autoreload 2"
   ]
  },
  {
   "cell_type": "code",
   "execution_count": null,
   "metadata": {},
   "outputs": [],
   "source": [
    "import matplotlib.pyplot as plt\n",
    "%matplotlib inline\n",
    "import numpy as np\n",
    "import pandas as pd\n",
    "import sys\n",
    "np.set_printoptions(threshold=sys.maxsize)"
   ]
  },
  {
   "cell_type": "code",
   "execution_count": null,
   "metadata": {},
   "outputs": [],
   "source": [
    "from cassandra.cluster import Cluster\n",
    "from os.path import expanduser\n",
    "home = expanduser(\"~\")\n",
    "with open(home+'/.aws/cassandra_cluster') as f:\n",
    "    cluster_ip = f.readline().strip('\\n')\n",
    "cluster = Cluster([cluster_ip])\n",
    "session = cluster.connect('measurements')"
   ]
  },
  {
   "cell_type": "code",
   "execution_count": null,
   "metadata": {},
   "outputs": [],
   "source": [
    "from solardatatools import standardize_time_axis, make_2d, plot_2d, fix_time_shifts\n",
    "from statistical_clear_sky.utilities.data_conversion import make_time_series"
   ]
  },
  {
   "cell_type": "code",
   "execution_count": null,
   "metadata": {},
   "outputs": [],
   "source": [
    "import time"
   ]
  },
  {
   "cell_type": "markdown",
   "metadata": {},
   "source": [
    "#### Measuing the execution time for three sites 1"
   ]
  },
  {
   "cell_type": "code",
   "execution_count": null,
   "metadata": {},
   "outputs": [],
   "source": [
    "execution_start_time = time.time()\n",
    "\n",
    "cql = \"\"\"\n",
    "    select site, meas_name, ts, sensor, meas_val_f \n",
    "    from measurement_raw\n",
    "    where site in ('TADBC1078041', 'ZT163185000441C2053', 'TADBC1078234')\n",
    "        and meas_name = 'ac_power';\n",
    "\"\"\"\n",
    "rows = session.execute(cql)\n",
    "\n",
    "execution_end_time = time.time()\n",
    "\n",
    "print(\"Query execution time: %s\" % (execution_end_time - execution_start_time))"
   ]
  },
  {
   "cell_type": "code",
   "execution_count": null,
   "metadata": {},
   "outputs": [],
   "source": [
    "data_frame = pd.DataFrame(list(rows))\n",
    "data_frame.replace(-999999.0, np.NaN, inplace=True)"
   ]
  },
  {
   "cell_type": "code",
   "execution_count": null,
   "metadata": {},
   "outputs": [],
   "source": [
    "time_series_data_frame = make_time_series(data_frame, return_keys=False)\n",
    "time_series_data_frame"
   ]
  },
  {
   "cell_type": "code",
   "execution_count": null,
   "metadata": {},
   "outputs": [],
   "source": [
    "time_series_data_frame.plot()"
   ]
  },
  {
   "cell_type": "code",
   "execution_count": null,
   "metadata": {},
   "outputs": [],
   "source": [
    "standardized_data_frame = standardize_time_axis(time_series_data_frame)\n",
    "standardized_data_frame"
   ]
  },
  {
   "cell_type": "code",
   "execution_count": null,
   "metadata": {},
   "outputs": [],
   "source": [
    "standardized_data_frame.plot()"
   ]
  },
  {
   "cell_type": "code",
   "execution_count": null,
   "metadata": {},
   "outputs": [],
   "source": [
    "power_matrix_1 = make_2d(standardized_data_frame, key='ac_power_01', zero_nighttime=True, interp_missing=True)\n",
    "power_matrix_1"
   ]
  },
  {
   "cell_type": "code",
   "execution_count": null,
   "metadata": {},
   "outputs": [],
   "source": [
    "plot_2d(power_matrix_1)"
   ]
  }
 ],
 "metadata": {
  "kernelspec": {
   "display_name": "Python 3",
   "language": "python",
   "name": "python3"
  },
  "language_info": {
   "codemirror_mode": {
    "name": "ipython",
    "version": 3
   },
   "file_extension": ".py",
   "mimetype": "text/x-python",
   "name": "python",
   "nbconvert_exporter": "python",
   "pygments_lexer": "ipython3",
   "version": "3.6.8"
  }
 },
 "nbformat": 4,
 "nbformat_minor": 2
}
